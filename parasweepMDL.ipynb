{
 "cells": [
  {
   "cell_type": "markdown",
   "metadata": {},
   "source": [
    "### Single parameter sweep\n",
    "Goal: \n",
    "1. write a fuction that test if the distribution is stationary (tspan long enough).\n",
    "2. store mean and variance for a particular set of parameters\n",
    "3. With that you will need to find a way to do parameter sweeps, i.e. specify a parameter range, e.g. d_m = 0.1, 0.2, ... 1.0, and run simulations to calculate statistics (mean, variance) for each parameter combination. Finally you need to store the results in a convenient data format (have a look at DataFrames.jl) and save it to the disk. Then, plot the Fano factor (y) as a function of the parameter (e.g. d_m) and see how it changes.\n",
    "\n",
    "Note: I am reimplementing the simple translation/translation model provided in the sample code for practice purposes. This model lacks sRNA-mRNA sequestration"
   ]
  },
  {
   "cell_type": "code",
   "execution_count": 3,
   "metadata": {},
   "outputs": [
    {
     "data": {
      "text/plain": [
       "6"
      ]
     },
     "metadata": {},
     "output_type": "display_data"
    }
   ],
   "source": [
    "using Catalyst, DifferentialEquations, Plots, DataFrames\n",
    "using DifferentialEquations.EnsembleAnalysis\n",
    "Threads.nthreads() # check that the number of cores is correct\n",
    "\n",
    "reactionMDL = @reaction_network begin\n",
    "    (ρₘ,dₘ), ∅ <--> mRNA          #transcription and degradation of mRNA\n",
    "    kₚ, mRNA --> mRNA + protein   #translation of mRNA to protein\n",
    "    dₚ, protein --> ∅             #protein degradation\n",
    "  end ρₘ dₘ kₚ dₚ\n",
    "p = [1.0, 0.1, 1.0, 0.01];        #here we define the vector of parameter values ordered as follows: [ρₘ, dₘ, kₚ, dₚ] - note: you can also use other types to pass the parameters, e.g. Tuple types: p = (1.0, 0.1, 1.0, 0.01)\n",
    "tspan = (0.,500.);                #here we define the timespan, we don't need to define this here but will need this later\n",
    "u0 = [0.,0.];                     #here we define the initial condition for our two variables [mRNA, protein]\n",
    "end"
   ]
  },
  {
   "cell_type": "markdown",
   "metadata": {},
   "source": [
    "### Multiple parameter sweep"
   ]
  },
  {
   "cell_type": "code",
   "execution_count": null,
   "metadata": {},
   "outputs": [],
   "source": []
  },
  {
   "cell_type": "markdown",
   "metadata": {},
   "source": [
    "### optional: attempting to sample initial conditions for trajectories from a poisson distribution\n",
    "\n"
   ]
  },
  {
   "cell_type": "markdown",
   "metadata": {},
   "source": []
  }
 ],
 "metadata": {
  "kernelspec": {
   "display_name": "Julia 1.7.2",
   "language": "julia",
   "name": "julia-1.7"
  },
  "language_info": {
   "file_extension": ".jl",
   "mimetype": "application/julia",
   "name": "julia",
   "version": "1.7.2"
  },
  "orig_nbformat": 4
 },
 "nbformat": 4,
 "nbformat_minor": 2
}
